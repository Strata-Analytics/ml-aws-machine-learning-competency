{
 "cells": [
  {
   "cell_type": "markdown",
   "id": "c19cd900-bb11-4e9e-87dc-eada8c0601d5",
   "metadata": {},
   "source": [
    "### Testing code for processing.py creation\n",
    "\n",
    "#### Data standardization and encoding"
   ]
  },
  {
   "cell_type": "code",
   "execution_count": 2,
   "id": "63e9a2ad-a6ba-485e-ab44-bafe3d86a8dd",
   "metadata": {
    "tags": []
   },
   "outputs": [],
   "source": [
    "import argparse\n",
    "import os\n",
    "import warnings\n",
    "import pandas as pd\n",
    "import numpy as np\n",
    "from sklearn.model_selection import train_test_split\n",
    "from sklearn.preprocessing import StandardScaler, OneHotEncoder, LabelBinarizer, KBinsDiscretizer\n",
    "from sklearn.preprocessing import PolynomialFeatures\n",
    "from sklearn.compose import ColumnTransformer"
   ]
  },
  {
   "cell_type": "code",
   "execution_count": 3,
   "id": "d8683a6f-1919-4764-9528-be81c2dfb350",
   "metadata": {
    "tags": []
   },
   "outputs": [],
   "source": [
    "bucket = 'ml-ai-competency'\n",
    "df_train_path = os.path.join(f\"s3://{bucket}/sagemaker/processed_data/\", \"df_train.csv\")\n",
    "# save dataset to s3 bucket \n",
    "df_train = pd.read_csv(df_train_path)"
   ]
  },
  {
   "cell_type": "code",
   "execution_count": 4,
   "id": "bfb57cf5-7b01-4351-a360-8b4e6c790cf0",
   "metadata": {
    "tags": []
   },
   "outputs": [],
   "source": [
    "cat_cols = list(df_train.select_dtypes(include='object').columns)\n",
    "num_cols = list(df_train.select_dtypes(include='float64').columns)\n",
    "int_cols = list(df_train.select_dtypes(include='int64').columns)"
   ]
  },
  {
   "cell_type": "code",
   "execution_count": 5,
   "id": "34497aa0-e127-4a43-8a6e-ed6e0992af35",
   "metadata": {
    "tags": []
   },
   "outputs": [
    {
     "name": "stdout",
     "output_type": "stream",
     "text": [
      "cat_cols:26, num_cols:7, int_cols:9\n"
     ]
    }
   ],
   "source": [
    "print(f\"cat_cols:{len(cat_cols)}, num_cols:{len(num_cols)}, int_cols:{len(int_cols)}\")"
   ]
  },
  {
   "cell_type": "code",
   "execution_count": 6,
   "id": "6c176e42-548a-4500-8267-aee0c69e4886",
   "metadata": {
    "tags": []
   },
   "outputs": [],
   "source": [
    "def print_shape(df):\n",
    "    negative_examples, positive_examples = np.bincount(df[\"target\"])\n",
    "    print(\n",
    "        \"Data shape: {}, {} positive examples, {} negative examples\".format(\n",
    "            df.shape, positive_examples, negative_examples\n",
    "        )\n",
    "    )"
   ]
  },
  {
   "cell_type": "code",
   "execution_count": 7,
   "id": "6f82a673-42e5-4b84-8338-1c80225093f9",
   "metadata": {
    "tags": []
   },
   "outputs": [
    {
     "name": "stdout",
     "output_type": "stream",
     "text": [
      "Data shape: (7043, 42), 1869 positive examples, 5174 negative examples\n"
     ]
    }
   ],
   "source": [
    "print_shape(df_train)"
   ]
  },
  {
   "cell_type": "code",
   "execution_count": 8,
   "id": "892a427e-9a76-4066-aa2f-4168704292ce",
   "metadata": {
    "tags": []
   },
   "outputs": [],
   "source": [
    "import argparse\n",
    "import warnings\n",
    "from sklearn.model_selection import train_test_split\n",
    "from sklearn.preprocessing import StandardScaler, OneHotEncoder\n",
    "from sklearn.compose import make_column_transformer\n",
    "from sklearn.compose import ColumnTransformer"
   ]
  },
  {
   "cell_type": "code",
   "execution_count": 9,
   "id": "3c1577b2-fb3c-4a9a-80ba-45771459f358",
   "metadata": {
    "tags": []
   },
   "outputs": [
    {
     "name": "stdout",
     "output_type": "stream",
     "text": [
      "Received arguments Namespace(train_test_split_ratio=0.2)\n"
     ]
    }
   ],
   "source": [
    "parser = argparse.ArgumentParser()\n",
    "parser.add_argument(\"--train-test-split-ratio\", type=float, default=0.2)\n",
    "args, _ = parser.parse_known_args()\n",
    "\n",
    "print(\"Received arguments {}\".format(args))"
   ]
  },
  {
   "cell_type": "code",
   "execution_count": 10,
   "id": "35b78bfe-4a50-477f-86ea-70234e9603f9",
   "metadata": {
    "tags": []
   },
   "outputs": [
    {
     "name": "stdout",
     "output_type": "stream",
     "text": [
      "Data after cleaning: (7043, 42), 1869 positive examples, 5174 negative examples\n"
     ]
    }
   ],
   "source": [
    "negative_examples, positive_examples = np.bincount(df_train[\"target\"])\n",
    "print(\n",
    "        \"Data after cleaning: {}, {} positive examples, {} negative examples\".format(\n",
    "            df_train.shape, positive_examples, negative_examples\n",
    "        )\n",
    "    )"
   ]
  },
  {
   "cell_type": "code",
   "execution_count": 11,
   "id": "80380685-c8d8-4f75-ad66-58ea38fa3e18",
   "metadata": {
    "tags": []
   },
   "outputs": [
    {
     "data": {
      "text/plain": [
       "0        True\n",
       "1        True\n",
       "2        True\n",
       "3        True\n",
       "4        True\n",
       "        ...  \n",
       "7038    False\n",
       "7039     True\n",
       "7040     True\n",
       "7041     True\n",
       "7042     True\n",
       "Length: 7043, dtype: bool"
      ]
     },
     "execution_count": 11,
     "metadata": {},
     "output_type": "execute_result"
    }
   ],
   "source": [
    "df_train.isna().any(axis=1)"
   ]
  },
  {
   "cell_type": "code",
   "execution_count": 12,
   "id": "be927054-9b22-42f5-9e05-b26148a7d8b6",
   "metadata": {
    "tags": []
   },
   "outputs": [],
   "source": [
    "# Create transformers for categorical and numerical features\n",
    "categorical_transformer = OneHotEncoder(handle_unknown='ignore', sparse=False)\n",
    "numerical_transformer = StandardScaler()\n",
    "\n",
    "# Create the column transformer\n",
    "preprocessor = ColumnTransformer(\n",
    "    transformers=[\n",
    "        ('cat', categorical_transformer, cat_cols),\n",
    "        ('num', numerical_transformer, num_cols)\n",
    "    ]\n",
    ")"
   ]
  },
  {
   "cell_type": "code",
   "execution_count": 13,
   "id": "9f99d39f-ec38-4f42-aee9-3e18674f8113",
   "metadata": {
    "tags": []
   },
   "outputs": [
    {
     "name": "stdout",
     "output_type": "stream",
     "text": [
      "Running preprocessing and feature engineering transformations\n",
      "Train data shape after preprocessing: (7043, 85)\n"
     ]
    },
    {
     "name": "stderr",
     "output_type": "stream",
     "text": [
      "/opt/conda/lib/python3.10/site-packages/sklearn/preprocessing/_encoders.py:975: FutureWarning: `sparse` was renamed to `sparse_output` in version 1.2 and will be removed in 1.4. `sparse_output` is ignored unless you leave `sparse` to its default value.\n",
      "  warnings.warn(\n"
     ]
    }
   ],
   "source": [
    "print(\"Running preprocessing and feature engineering transformations\")\n",
    "df_train_ = preprocessor.fit_transform(df_train.drop(\"target\", axis=1))\n",
    "print(\"Train data shape after preprocessing: {}\".format(df_train_.shape))"
   ]
  },
  {
   "cell_type": "code",
   "execution_count": 14,
   "id": "682fd218-00dd-482a-8a2e-455ef5d44115",
   "metadata": {
    "collapsed": true,
    "jupyter": {
     "outputs_hidden": true
    },
    "tags": []
   },
   "outputs": [
    {
     "data": {
      "text/plain": [
       "array(['cat__Senior Citizen_No', 'cat__Senior Citizen_Yes',\n",
       "       'cat__Partner_No', 'cat__Partner_Yes', 'cat__Dependents_No',\n",
       "       'cat__Dependents_Yes', 'cat__Phone Service_No',\n",
       "       'cat__Phone Service_Yes', 'cat__Multiple Lines_No',\n",
       "       'cat__Multiple Lines_No phone service', 'cat__Multiple Lines_Yes',\n",
       "       'cat__Internet Service_DSL', 'cat__Internet Service_Fiber optic',\n",
       "       'cat__Internet Service_No', 'cat__Online Security_No',\n",
       "       'cat__Online Security_No internet service',\n",
       "       'cat__Online Security_Yes', 'cat__Online Backup_No',\n",
       "       'cat__Online Backup_No internet service', 'cat__Online Backup_Yes',\n",
       "       'cat__Device Protection_No',\n",
       "       'cat__Device Protection_No internet service',\n",
       "       'cat__Device Protection_Yes', 'cat__Tech Support_No',\n",
       "       'cat__Tech Support_No internet service', 'cat__Tech Support_Yes',\n",
       "       'cat__Streaming TV_No', 'cat__Streaming TV_No internet service',\n",
       "       'cat__Streaming TV_Yes', 'cat__Streaming Movies_No',\n",
       "       'cat__Streaming Movies_No internet service',\n",
       "       'cat__Streaming Movies_Yes', 'cat__Contract_Month-to-month',\n",
       "       'cat__Contract_One year', 'cat__Contract_Two year',\n",
       "       'cat__Paperless Billing_No', 'cat__Paperless Billing_Yes',\n",
       "       'cat__Payment Method_Bank transfer (automatic)',\n",
       "       'cat__Payment Method_Credit card (automatic)',\n",
       "       'cat__Payment Method_Electronic check',\n",
       "       'cat__Payment Method_Mailed check', 'cat__Gender_Female',\n",
       "       'cat__Gender_Male', 'cat__Married_No', 'cat__Married_Yes',\n",
       "       'cat__Under 30_No', 'cat__Under 30_Yes',\n",
       "       'cat__Internet Type_Cable', 'cat__Internet Type_DSL',\n",
       "       'cat__Internet Type_Fiber Optic', 'cat__Internet Type_nan',\n",
       "       'cat__Unlimited Data_No', 'cat__Unlimited Data_Yes',\n",
       "       'cat__Device Protection Plan_No',\n",
       "       'cat__Device Protection Plan_Yes', 'cat__Referred a Friend_No',\n",
       "       'cat__Referred a Friend_Yes', 'cat__Streaming Music_No',\n",
       "       'cat__Streaming Music_Yes', 'cat__Offer_Offer A',\n",
       "       'cat__Offer_Offer B', 'cat__Offer_Offer C', 'cat__Offer_Offer D',\n",
       "       'cat__Offer_Offer E', 'cat__Offer_nan',\n",
       "       'cat__Premium Tech Support_No', 'cat__Premium Tech Support_Yes',\n",
       "       'cat__Region_Name_Central Coast', 'cat__Region_Name_Inland Empire',\n",
       "       'cat__Region_Name_Los Angeles County',\n",
       "       'cat__Region_Name_North Coast',\n",
       "       'cat__Region_Name_Northern San Joaquin Valley',\n",
       "       'cat__Region_Name_Orange County ',\n",
       "       'cat__Region_Name_San Diego - Imperial',\n",
       "       'cat__Region_Name_San Francisco Bay Area',\n",
       "       'cat__Region_Name_Southern San Joaquin Valley',\n",
       "       'cat__Region_Name_Superior California', 'cat__Region_Name_nan',\n",
       "       'num__Monthly Charges', 'num__Total Charges', 'num__Total Refunds',\n",
       "       'num__Total Long Distance Charges',\n",
       "       'num__Avg Monthly Long Distance Charges', 'num__Total Revenue',\n",
       "       'num__Charges_per_tenure'], dtype=object)"
      ]
     },
     "execution_count": 14,
     "metadata": {},
     "output_type": "execute_result"
    }
   ],
   "source": [
    "feat_names_out = preprocessor.get_feature_names_out()\n",
    "feat_names_out"
   ]
  },
  {
   "cell_type": "code",
   "execution_count": 15,
   "id": "8c40d5ab-b3ae-44df-8bcc-3a87fe2b0a6d",
   "metadata": {
    "tags": []
   },
   "outputs": [],
   "source": [
    "pd.DataFrame(feat_names_out).to_csv('feat_names_out.csv')"
   ]
  },
  {
   "cell_type": "code",
   "execution_count": 16,
   "id": "28bb72a8-bc03-491e-8028-15b86d7579bf",
   "metadata": {
    "collapsed": true,
    "jupyter": {
     "outputs_hidden": true
    },
    "tags": []
   },
   "outputs": [
    {
     "data": {
      "text/plain": [
       "array([[ 1.        ,  0.        ,  0.        , ..., -1.48630342,\n",
       "        -1.04870083, -1.15788894],\n",
       "       [ 1.        ,  0.        ,  1.        , ..., -0.37994091,\n",
       "        -0.1967954 , -0.30565771],\n",
       "       [ 1.        ,  0.        ,  1.        , ..., -0.80850263,\n",
       "        -1.0140621 , -0.35530461],\n",
       "       ...,\n",
       "       [ 1.        ,  0.        ,  0.        , ..., -1.48630342,\n",
       "        -0.94770261, -1.10337435],\n",
       "       [ 0.        ,  1.        ,  0.        , ..., -0.79943939,\n",
       "        -0.93030995,  0.39261453],\n",
       "       [ 1.        ,  0.        ,  1.        , ...,  0.5179671 ,\n",
       "         2.043099  ,  1.28894288]])"
      ]
     },
     "execution_count": 16,
     "metadata": {},
     "output_type": "execute_result"
    }
   ],
   "source": [
    "df_train_"
   ]
  },
  {
   "cell_type": "markdown",
   "id": "1db05694-77cc-4ca5-b34b-0d1533c7bcce",
   "metadata": {
    "pycharm": {
     "name": "#%% md\n"
    },
    "tags": []
   },
   "source": [
    "#### Data Splitting\n",
    "\n",
    "We decided to randomly split data from last step into train/validation/test to predict churn per user. "
   ]
  },
  {
   "cell_type": "code",
   "execution_count": 17,
   "id": "84b550cf-38b2-444b-bf9c-1e27a012a604",
   "metadata": {
    "tags": []
   },
   "outputs": [
    {
     "name": "stdout",
     "output_type": "stream",
     "text": [
      "Splitting data into train and test sets with ratio 0.2\n",
      "Splitting data into train and validation sets with ratio 0.2\n"
     ]
    }
   ],
   "source": [
    "split_ratio = args.train_test_split_ratio\n",
    "print(\"Splitting data into train and test sets with ratio {}\".format(split_ratio))\n",
    "X_train, X_test, y_train, y_test = train_test_split(df_train_, \n",
    "                                                        df_train[\"target\"], \n",
    "                                                        test_size=split_ratio, \n",
    "                                                        random_state=2023)\n",
    "    \n",
    "print(\"Splitting data into train and validation sets with ratio {}\".format(split_ratio))\n",
    "X_train, X_valid, y_train, y_valid = train_test_split(X_train, \n",
    "                                                        y_train, \n",
    "                                                        test_size=split_ratio, \n",
    "                                                        random_state=2023)"
   ]
  },
  {
   "cell_type": "code",
   "execution_count": 18,
   "id": "760fb8b0-a522-476d-97e1-3fed939732c7",
   "metadata": {
    "tags": []
   },
   "outputs": [
    {
     "data": {
      "text/plain": [
       "Index([7004,  847, 3673,  772, 4642, 5174, 6848, 1238,  445, 3211,\n",
       "       ...\n",
       "       6290, 4486,  557, 2332, 3738, 5205, 2139, 6920,  686, 6710],\n",
       "      dtype='int64', length=4507)"
      ]
     },
     "execution_count": 18,
     "metadata": {},
     "output_type": "execute_result"
    }
   ],
   "source": [
    "y_train.index"
   ]
  },
  {
   "cell_type": "code",
   "execution_count": 19,
   "id": "f426921d-f912-48ec-af4d-d21af1426167",
   "metadata": {
    "tags": []
   },
   "outputs": [],
   "source": [
    "train = pd.concat([pd.Series(y_train, index=y_train.index,\n",
    "                             name='target', dtype=int), pd.DataFrame(X_train, index=y_train.index)], axis=1)"
   ]
  },
  {
   "cell_type": "code",
   "execution_count": 20,
   "id": "650eaee9-c31e-4d15-9ef3-d8368e2e55d6",
   "metadata": {
    "tags": []
   },
   "outputs": [
    {
     "data": {
      "text/html": [
       "<div>\n",
       "<style scoped>\n",
       "    .dataframe tbody tr th:only-of-type {\n",
       "        vertical-align: middle;\n",
       "    }\n",
       "\n",
       "    .dataframe tbody tr th {\n",
       "        vertical-align: top;\n",
       "    }\n",
       "\n",
       "    .dataframe thead th {\n",
       "        text-align: right;\n",
       "    }\n",
       "</style>\n",
       "<table border=\"1\" class=\"dataframe\">\n",
       "  <thead>\n",
       "    <tr style=\"text-align: right;\">\n",
       "      <th></th>\n",
       "      <th>target</th>\n",
       "      <th>0</th>\n",
       "      <th>1</th>\n",
       "      <th>2</th>\n",
       "      <th>3</th>\n",
       "      <th>4</th>\n",
       "      <th>5</th>\n",
       "      <th>6</th>\n",
       "      <th>7</th>\n",
       "      <th>8</th>\n",
       "      <th>...</th>\n",
       "      <th>75</th>\n",
       "      <th>76</th>\n",
       "      <th>77</th>\n",
       "      <th>78</th>\n",
       "      <th>79</th>\n",
       "      <th>80</th>\n",
       "      <th>81</th>\n",
       "      <th>82</th>\n",
       "      <th>83</th>\n",
       "      <th>84</th>\n",
       "    </tr>\n",
       "  </thead>\n",
       "  <tbody>\n",
       "    <tr>\n",
       "      <th>7004</th>\n",
       "      <td>0</td>\n",
       "      <td>1.0</td>\n",
       "      <td>0.0</td>\n",
       "      <td>1.0</td>\n",
       "      <td>0.0</td>\n",
       "      <td>1.0</td>\n",
       "      <td>0.0</td>\n",
       "      <td>0.0</td>\n",
       "      <td>1.0</td>\n",
       "      <td>0.0</td>\n",
       "      <td>...</td>\n",
       "      <td>0.0</td>\n",
       "      <td>0.0</td>\n",
       "      <td>0.0</td>\n",
       "      <td>1.008322</td>\n",
       "      <td>0.621148</td>\n",
       "      <td>-0.248313</td>\n",
       "      <td>-0.583651</td>\n",
       "      <td>-1.051915</td>\n",
       "      <td>0.318255</td>\n",
       "      <td>1.071352</td>\n",
       "    </tr>\n",
       "    <tr>\n",
       "      <th>847</th>\n",
       "      <td>0</td>\n",
       "      <td>1.0</td>\n",
       "      <td>0.0</td>\n",
       "      <td>0.0</td>\n",
       "      <td>1.0</td>\n",
       "      <td>0.0</td>\n",
       "      <td>1.0</td>\n",
       "      <td>1.0</td>\n",
       "      <td>0.0</td>\n",
       "      <td>0.0</td>\n",
       "      <td>...</td>\n",
       "      <td>1.0</td>\n",
       "      <td>0.0</td>\n",
       "      <td>0.0</td>\n",
       "      <td>-1.050644</td>\n",
       "      <td>-0.811145</td>\n",
       "      <td>-0.248313</td>\n",
       "      <td>-0.884833</td>\n",
       "      <td>-1.486303</td>\n",
       "      <td>-0.903884</td>\n",
       "      <td>-0.918936</td>\n",
       "    </tr>\n",
       "    <tr>\n",
       "      <th>3673</th>\n",
       "      <td>1</td>\n",
       "      <td>1.0</td>\n",
       "      <td>0.0</td>\n",
       "      <td>1.0</td>\n",
       "      <td>0.0</td>\n",
       "      <td>1.0</td>\n",
       "      <td>0.0</td>\n",
       "      <td>0.0</td>\n",
       "      <td>1.0</td>\n",
       "      <td>0.0</td>\n",
       "      <td>...</td>\n",
       "      <td>0.0</td>\n",
       "      <td>0.0</td>\n",
       "      <td>0.0</td>\n",
       "      <td>1.229341</td>\n",
       "      <td>0.878029</td>\n",
       "      <td>-0.248313</td>\n",
       "      <td>0.047343</td>\n",
       "      <td>-0.269887</td>\n",
       "      <td>0.707941</td>\n",
       "      <td>1.224149</td>\n",
       "    </tr>\n",
       "    <tr>\n",
       "      <th>772</th>\n",
       "      <td>1</td>\n",
       "      <td>1.0</td>\n",
       "      <td>0.0</td>\n",
       "      <td>1.0</td>\n",
       "      <td>0.0</td>\n",
       "      <td>1.0</td>\n",
       "      <td>0.0</td>\n",
       "      <td>0.0</td>\n",
       "      <td>1.0</td>\n",
       "      <td>1.0</td>\n",
       "      <td>...</td>\n",
       "      <td>0.0</td>\n",
       "      <td>0.0</td>\n",
       "      <td>1.0</td>\n",
       "      <td>-1.491021</td>\n",
       "      <td>-0.998584</td>\n",
       "      <td>-0.248313</td>\n",
       "      <td>-0.826352</td>\n",
       "      <td>1.718846</td>\n",
       "      <td>-1.034893</td>\n",
       "      <td>-1.487537</td>\n",
       "    </tr>\n",
       "    <tr>\n",
       "      <th>4642</th>\n",
       "      <td>1</td>\n",
       "      <td>1.0</td>\n",
       "      <td>0.0</td>\n",
       "      <td>0.0</td>\n",
       "      <td>1.0</td>\n",
       "      <td>0.0</td>\n",
       "      <td>1.0</td>\n",
       "      <td>0.0</td>\n",
       "      <td>1.0</td>\n",
       "      <td>1.0</td>\n",
       "      <td>...</td>\n",
       "      <td>0.0</td>\n",
       "      <td>0.0</td>\n",
       "      <td>0.0</td>\n",
       "      <td>0.333633</td>\n",
       "      <td>1.119226</td>\n",
       "      <td>-0.248313</td>\n",
       "      <td>2.222361</td>\n",
       "      <td>1.133620</td>\n",
       "      <td>1.541473</td>\n",
       "      <td>0.309992</td>\n",
       "    </tr>\n",
       "    <tr>\n",
       "      <th>...</th>\n",
       "      <td>...</td>\n",
       "      <td>...</td>\n",
       "      <td>...</td>\n",
       "      <td>...</td>\n",
       "      <td>...</td>\n",
       "      <td>...</td>\n",
       "      <td>...</td>\n",
       "      <td>...</td>\n",
       "      <td>...</td>\n",
       "      <td>...</td>\n",
       "      <td>...</td>\n",
       "      <td>...</td>\n",
       "      <td>...</td>\n",
       "      <td>...</td>\n",
       "      <td>...</td>\n",
       "      <td>...</td>\n",
       "      <td>...</td>\n",
       "      <td>...</td>\n",
       "      <td>...</td>\n",
       "      <td>...</td>\n",
       "      <td>...</td>\n",
       "    </tr>\n",
       "    <tr>\n",
       "      <th>5205</th>\n",
       "      <td>0</td>\n",
       "      <td>1.0</td>\n",
       "      <td>0.0</td>\n",
       "      <td>1.0</td>\n",
       "      <td>0.0</td>\n",
       "      <td>1.0</td>\n",
       "      <td>0.0</td>\n",
       "      <td>0.0</td>\n",
       "      <td>1.0</td>\n",
       "      <td>0.0</td>\n",
       "      <td>...</td>\n",
       "      <td>0.0</td>\n",
       "      <td>0.0</td>\n",
       "      <td>1.0</td>\n",
       "      <td>0.878702</td>\n",
       "      <td>0.484865</td>\n",
       "      <td>-0.248313</td>\n",
       "      <td>-0.372182</td>\n",
       "      <td>-0.726933</td>\n",
       "      <td>0.272925</td>\n",
       "      <td>0.881736</td>\n",
       "    </tr>\n",
       "    <tr>\n",
       "      <th>2139</th>\n",
       "      <td>0</td>\n",
       "      <td>1.0</td>\n",
       "      <td>0.0</td>\n",
       "      <td>1.0</td>\n",
       "      <td>0.0</td>\n",
       "      <td>1.0</td>\n",
       "      <td>0.0</td>\n",
       "      <td>0.0</td>\n",
       "      <td>1.0</td>\n",
       "      <td>1.0</td>\n",
       "      <td>...</td>\n",
       "      <td>0.0</td>\n",
       "      <td>0.0</td>\n",
       "      <td>0.0</td>\n",
       "      <td>0.069407</td>\n",
       "      <td>-0.805256</td>\n",
       "      <td>-0.248313</td>\n",
       "      <td>-0.486628</td>\n",
       "      <td>1.631451</td>\n",
       "      <td>-0.781556</td>\n",
       "      <td>0.021317</td>\n",
       "    </tr>\n",
       "    <tr>\n",
       "      <th>6920</th>\n",
       "      <td>0</td>\n",
       "      <td>1.0</td>\n",
       "      <td>0.0</td>\n",
       "      <td>1.0</td>\n",
       "      <td>0.0</td>\n",
       "      <td>0.0</td>\n",
       "      <td>1.0</td>\n",
       "      <td>0.0</td>\n",
       "      <td>1.0</td>\n",
       "      <td>1.0</td>\n",
       "      <td>...</td>\n",
       "      <td>0.0</td>\n",
       "      <td>0.0</td>\n",
       "      <td>0.0</td>\n",
       "      <td>-1.497668</td>\n",
       "      <td>-0.782667</td>\n",
       "      <td>-0.248313</td>\n",
       "      <td>0.144650</td>\n",
       "      <td>0.603420</td>\n",
       "      <td>-0.577144</td>\n",
       "      <td>-1.521894</td>\n",
       "    </tr>\n",
       "    <tr>\n",
       "      <th>686</th>\n",
       "      <td>0</td>\n",
       "      <td>1.0</td>\n",
       "      <td>0.0</td>\n",
       "      <td>1.0</td>\n",
       "      <td>0.0</td>\n",
       "      <td>1.0</td>\n",
       "      <td>0.0</td>\n",
       "      <td>0.0</td>\n",
       "      <td>1.0</td>\n",
       "      <td>0.0</td>\n",
       "      <td>...</td>\n",
       "      <td>1.0</td>\n",
       "      <td>0.0</td>\n",
       "      <td>0.0</td>\n",
       "      <td>-1.334812</td>\n",
       "      <td>-0.448644</td>\n",
       "      <td>5.814668</td>\n",
       "      <td>1.185047</td>\n",
       "      <td>0.738074</td>\n",
       "      <td>-0.022174</td>\n",
       "      <td>-1.324158</td>\n",
       "    </tr>\n",
       "    <tr>\n",
       "      <th>6710</th>\n",
       "      <td>0</td>\n",
       "      <td>1.0</td>\n",
       "      <td>0.0</td>\n",
       "      <td>0.0</td>\n",
       "      <td>1.0</td>\n",
       "      <td>0.0</td>\n",
       "      <td>1.0</td>\n",
       "      <td>0.0</td>\n",
       "      <td>1.0</td>\n",
       "      <td>1.0</td>\n",
       "      <td>...</td>\n",
       "      <td>0.0</td>\n",
       "      <td>0.0</td>\n",
       "      <td>1.0</td>\n",
       "      <td>0.164129</td>\n",
       "      <td>0.326633</td>\n",
       "      <td>-0.248313</td>\n",
       "      <td>1.647272</td>\n",
       "      <td>1.404870</td>\n",
       "      <td>0.744485</td>\n",
       "      <td>-0.059857</td>\n",
       "    </tr>\n",
       "  </tbody>\n",
       "</table>\n",
       "<p>4507 rows × 86 columns</p>\n",
       "</div>"
      ],
      "text/plain": [
       "      target    0    1    2    3    4    5    6    7    8  ...   75   76   77  \\\n",
       "7004       0  1.0  0.0  1.0  0.0  1.0  0.0  0.0  1.0  0.0  ...  0.0  0.0  0.0   \n",
       "847        0  1.0  0.0  0.0  1.0  0.0  1.0  1.0  0.0  0.0  ...  1.0  0.0  0.0   \n",
       "3673       1  1.0  0.0  1.0  0.0  1.0  0.0  0.0  1.0  0.0  ...  0.0  0.0  0.0   \n",
       "772        1  1.0  0.0  1.0  0.0  1.0  0.0  0.0  1.0  1.0  ...  0.0  0.0  1.0   \n",
       "4642       1  1.0  0.0  0.0  1.0  0.0  1.0  0.0  1.0  1.0  ...  0.0  0.0  0.0   \n",
       "...      ...  ...  ...  ...  ...  ...  ...  ...  ...  ...  ...  ...  ...  ...   \n",
       "5205       0  1.0  0.0  1.0  0.0  1.0  0.0  0.0  1.0  0.0  ...  0.0  0.0  1.0   \n",
       "2139       0  1.0  0.0  1.0  0.0  1.0  0.0  0.0  1.0  1.0  ...  0.0  0.0  0.0   \n",
       "6920       0  1.0  0.0  1.0  0.0  0.0  1.0  0.0  1.0  1.0  ...  0.0  0.0  0.0   \n",
       "686        0  1.0  0.0  1.0  0.0  1.0  0.0  0.0  1.0  0.0  ...  1.0  0.0  0.0   \n",
       "6710       0  1.0  0.0  0.0  1.0  0.0  1.0  0.0  1.0  1.0  ...  0.0  0.0  1.0   \n",
       "\n",
       "            78        79        80        81        82        83        84  \n",
       "7004  1.008322  0.621148 -0.248313 -0.583651 -1.051915  0.318255  1.071352  \n",
       "847  -1.050644 -0.811145 -0.248313 -0.884833 -1.486303 -0.903884 -0.918936  \n",
       "3673  1.229341  0.878029 -0.248313  0.047343 -0.269887  0.707941  1.224149  \n",
       "772  -1.491021 -0.998584 -0.248313 -0.826352  1.718846 -1.034893 -1.487537  \n",
       "4642  0.333633  1.119226 -0.248313  2.222361  1.133620  1.541473  0.309992  \n",
       "...        ...       ...       ...       ...       ...       ...       ...  \n",
       "5205  0.878702  0.484865 -0.248313 -0.372182 -0.726933  0.272925  0.881736  \n",
       "2139  0.069407 -0.805256 -0.248313 -0.486628  1.631451 -0.781556  0.021317  \n",
       "6920 -1.497668 -0.782667 -0.248313  0.144650  0.603420 -0.577144 -1.521894  \n",
       "686  -1.334812 -0.448644  5.814668  1.185047  0.738074 -0.022174 -1.324158  \n",
       "6710  0.164129  0.326633 -0.248313  1.647272  1.404870  0.744485 -0.059857  \n",
       "\n",
       "[4507 rows x 86 columns]"
      ]
     },
     "execution_count": 20,
     "metadata": {},
     "output_type": "execute_result"
    }
   ],
   "source": [
    "train"
   ]
  },
  {
   "cell_type": "code",
   "execution_count": 21,
   "id": "dbb070c5-c8c2-441e-8a08-ff400fcb9072",
   "metadata": {
    "tags": []
   },
   "outputs": [
    {
     "data": {
      "text/html": [
       "<div>\n",
       "<style scoped>\n",
       "    .dataframe tbody tr th:only-of-type {\n",
       "        vertical-align: middle;\n",
       "    }\n",
       "\n",
       "    .dataframe tbody tr th {\n",
       "        vertical-align: top;\n",
       "    }\n",
       "\n",
       "    .dataframe thead th {\n",
       "        text-align: right;\n",
       "    }\n",
       "</style>\n",
       "<table border=\"1\" class=\"dataframe\">\n",
       "  <thead>\n",
       "    <tr style=\"text-align: right;\">\n",
       "      <th></th>\n",
       "      <th>0</th>\n",
       "      <th>1</th>\n",
       "      <th>2</th>\n",
       "      <th>3</th>\n",
       "      <th>4</th>\n",
       "      <th>5</th>\n",
       "      <th>6</th>\n",
       "      <th>7</th>\n",
       "      <th>8</th>\n",
       "      <th>9</th>\n",
       "      <th>...</th>\n",
       "      <th>75</th>\n",
       "      <th>76</th>\n",
       "      <th>77</th>\n",
       "      <th>78</th>\n",
       "      <th>79</th>\n",
       "      <th>80</th>\n",
       "      <th>81</th>\n",
       "      <th>82</th>\n",
       "      <th>83</th>\n",
       "      <th>84</th>\n",
       "    </tr>\n",
       "  </thead>\n",
       "  <tbody>\n",
       "    <tr>\n",
       "      <th>7004</th>\n",
       "      <td>1.0</td>\n",
       "      <td>0.0</td>\n",
       "      <td>1.0</td>\n",
       "      <td>0.0</td>\n",
       "      <td>1.0</td>\n",
       "      <td>0.0</td>\n",
       "      <td>0.0</td>\n",
       "      <td>1.0</td>\n",
       "      <td>0.0</td>\n",
       "      <td>0.0</td>\n",
       "      <td>...</td>\n",
       "      <td>0.0</td>\n",
       "      <td>0.0</td>\n",
       "      <td>0.0</td>\n",
       "      <td>1.008322</td>\n",
       "      <td>0.621148</td>\n",
       "      <td>-0.248313</td>\n",
       "      <td>-0.583651</td>\n",
       "      <td>-1.051915</td>\n",
       "      <td>0.318255</td>\n",
       "      <td>1.071352</td>\n",
       "    </tr>\n",
       "    <tr>\n",
       "      <th>847</th>\n",
       "      <td>1.0</td>\n",
       "      <td>0.0</td>\n",
       "      <td>0.0</td>\n",
       "      <td>1.0</td>\n",
       "      <td>0.0</td>\n",
       "      <td>1.0</td>\n",
       "      <td>1.0</td>\n",
       "      <td>0.0</td>\n",
       "      <td>0.0</td>\n",
       "      <td>1.0</td>\n",
       "      <td>...</td>\n",
       "      <td>1.0</td>\n",
       "      <td>0.0</td>\n",
       "      <td>0.0</td>\n",
       "      <td>-1.050644</td>\n",
       "      <td>-0.811145</td>\n",
       "      <td>-0.248313</td>\n",
       "      <td>-0.884833</td>\n",
       "      <td>-1.486303</td>\n",
       "      <td>-0.903884</td>\n",
       "      <td>-0.918936</td>\n",
       "    </tr>\n",
       "    <tr>\n",
       "      <th>3673</th>\n",
       "      <td>1.0</td>\n",
       "      <td>0.0</td>\n",
       "      <td>1.0</td>\n",
       "      <td>0.0</td>\n",
       "      <td>1.0</td>\n",
       "      <td>0.0</td>\n",
       "      <td>0.0</td>\n",
       "      <td>1.0</td>\n",
       "      <td>0.0</td>\n",
       "      <td>0.0</td>\n",
       "      <td>...</td>\n",
       "      <td>0.0</td>\n",
       "      <td>0.0</td>\n",
       "      <td>0.0</td>\n",
       "      <td>1.229341</td>\n",
       "      <td>0.878029</td>\n",
       "      <td>-0.248313</td>\n",
       "      <td>0.047343</td>\n",
       "      <td>-0.269887</td>\n",
       "      <td>0.707941</td>\n",
       "      <td>1.224149</td>\n",
       "    </tr>\n",
       "    <tr>\n",
       "      <th>772</th>\n",
       "      <td>1.0</td>\n",
       "      <td>0.0</td>\n",
       "      <td>1.0</td>\n",
       "      <td>0.0</td>\n",
       "      <td>1.0</td>\n",
       "      <td>0.0</td>\n",
       "      <td>0.0</td>\n",
       "      <td>1.0</td>\n",
       "      <td>1.0</td>\n",
       "      <td>0.0</td>\n",
       "      <td>...</td>\n",
       "      <td>0.0</td>\n",
       "      <td>0.0</td>\n",
       "      <td>1.0</td>\n",
       "      <td>-1.491021</td>\n",
       "      <td>-0.998584</td>\n",
       "      <td>-0.248313</td>\n",
       "      <td>-0.826352</td>\n",
       "      <td>1.718846</td>\n",
       "      <td>-1.034893</td>\n",
       "      <td>-1.487537</td>\n",
       "    </tr>\n",
       "    <tr>\n",
       "      <th>4642</th>\n",
       "      <td>1.0</td>\n",
       "      <td>0.0</td>\n",
       "      <td>0.0</td>\n",
       "      <td>1.0</td>\n",
       "      <td>0.0</td>\n",
       "      <td>1.0</td>\n",
       "      <td>0.0</td>\n",
       "      <td>1.0</td>\n",
       "      <td>1.0</td>\n",
       "      <td>0.0</td>\n",
       "      <td>...</td>\n",
       "      <td>0.0</td>\n",
       "      <td>0.0</td>\n",
       "      <td>0.0</td>\n",
       "      <td>0.333633</td>\n",
       "      <td>1.119226</td>\n",
       "      <td>-0.248313</td>\n",
       "      <td>2.222361</td>\n",
       "      <td>1.133620</td>\n",
       "      <td>1.541473</td>\n",
       "      <td>0.309992</td>\n",
       "    </tr>\n",
       "    <tr>\n",
       "      <th>...</th>\n",
       "      <td>...</td>\n",
       "      <td>...</td>\n",
       "      <td>...</td>\n",
       "      <td>...</td>\n",
       "      <td>...</td>\n",
       "      <td>...</td>\n",
       "      <td>...</td>\n",
       "      <td>...</td>\n",
       "      <td>...</td>\n",
       "      <td>...</td>\n",
       "      <td>...</td>\n",
       "      <td>...</td>\n",
       "      <td>...</td>\n",
       "      <td>...</td>\n",
       "      <td>...</td>\n",
       "      <td>...</td>\n",
       "      <td>...</td>\n",
       "      <td>...</td>\n",
       "      <td>...</td>\n",
       "      <td>...</td>\n",
       "      <td>...</td>\n",
       "    </tr>\n",
       "    <tr>\n",
       "      <th>5205</th>\n",
       "      <td>1.0</td>\n",
       "      <td>0.0</td>\n",
       "      <td>1.0</td>\n",
       "      <td>0.0</td>\n",
       "      <td>1.0</td>\n",
       "      <td>0.0</td>\n",
       "      <td>0.0</td>\n",
       "      <td>1.0</td>\n",
       "      <td>0.0</td>\n",
       "      <td>0.0</td>\n",
       "      <td>...</td>\n",
       "      <td>0.0</td>\n",
       "      <td>0.0</td>\n",
       "      <td>1.0</td>\n",
       "      <td>0.878702</td>\n",
       "      <td>0.484865</td>\n",
       "      <td>-0.248313</td>\n",
       "      <td>-0.372182</td>\n",
       "      <td>-0.726933</td>\n",
       "      <td>0.272925</td>\n",
       "      <td>0.881736</td>\n",
       "    </tr>\n",
       "    <tr>\n",
       "      <th>2139</th>\n",
       "      <td>1.0</td>\n",
       "      <td>0.0</td>\n",
       "      <td>1.0</td>\n",
       "      <td>0.0</td>\n",
       "      <td>1.0</td>\n",
       "      <td>0.0</td>\n",
       "      <td>0.0</td>\n",
       "      <td>1.0</td>\n",
       "      <td>1.0</td>\n",
       "      <td>0.0</td>\n",
       "      <td>...</td>\n",
       "      <td>0.0</td>\n",
       "      <td>0.0</td>\n",
       "      <td>0.0</td>\n",
       "      <td>0.069407</td>\n",
       "      <td>-0.805256</td>\n",
       "      <td>-0.248313</td>\n",
       "      <td>-0.486628</td>\n",
       "      <td>1.631451</td>\n",
       "      <td>-0.781556</td>\n",
       "      <td>0.021317</td>\n",
       "    </tr>\n",
       "    <tr>\n",
       "      <th>6920</th>\n",
       "      <td>1.0</td>\n",
       "      <td>0.0</td>\n",
       "      <td>1.0</td>\n",
       "      <td>0.0</td>\n",
       "      <td>0.0</td>\n",
       "      <td>1.0</td>\n",
       "      <td>0.0</td>\n",
       "      <td>1.0</td>\n",
       "      <td>1.0</td>\n",
       "      <td>0.0</td>\n",
       "      <td>...</td>\n",
       "      <td>0.0</td>\n",
       "      <td>0.0</td>\n",
       "      <td>0.0</td>\n",
       "      <td>-1.497668</td>\n",
       "      <td>-0.782667</td>\n",
       "      <td>-0.248313</td>\n",
       "      <td>0.144650</td>\n",
       "      <td>0.603420</td>\n",
       "      <td>-0.577144</td>\n",
       "      <td>-1.521894</td>\n",
       "    </tr>\n",
       "    <tr>\n",
       "      <th>686</th>\n",
       "      <td>1.0</td>\n",
       "      <td>0.0</td>\n",
       "      <td>1.0</td>\n",
       "      <td>0.0</td>\n",
       "      <td>1.0</td>\n",
       "      <td>0.0</td>\n",
       "      <td>0.0</td>\n",
       "      <td>1.0</td>\n",
       "      <td>0.0</td>\n",
       "      <td>0.0</td>\n",
       "      <td>...</td>\n",
       "      <td>1.0</td>\n",
       "      <td>0.0</td>\n",
       "      <td>0.0</td>\n",
       "      <td>-1.334812</td>\n",
       "      <td>-0.448644</td>\n",
       "      <td>5.814668</td>\n",
       "      <td>1.185047</td>\n",
       "      <td>0.738074</td>\n",
       "      <td>-0.022174</td>\n",
       "      <td>-1.324158</td>\n",
       "    </tr>\n",
       "    <tr>\n",
       "      <th>6710</th>\n",
       "      <td>1.0</td>\n",
       "      <td>0.0</td>\n",
       "      <td>0.0</td>\n",
       "      <td>1.0</td>\n",
       "      <td>0.0</td>\n",
       "      <td>1.0</td>\n",
       "      <td>0.0</td>\n",
       "      <td>1.0</td>\n",
       "      <td>1.0</td>\n",
       "      <td>0.0</td>\n",
       "      <td>...</td>\n",
       "      <td>0.0</td>\n",
       "      <td>0.0</td>\n",
       "      <td>1.0</td>\n",
       "      <td>0.164129</td>\n",
       "      <td>0.326633</td>\n",
       "      <td>-0.248313</td>\n",
       "      <td>1.647272</td>\n",
       "      <td>1.404870</td>\n",
       "      <td>0.744485</td>\n",
       "      <td>-0.059857</td>\n",
       "    </tr>\n",
       "  </tbody>\n",
       "</table>\n",
       "<p>4507 rows × 85 columns</p>\n",
       "</div>"
      ],
      "text/plain": [
       "       0    1    2    3    4    5    6    7    8    9   ...   75   76   77  \\\n",
       "7004  1.0  0.0  1.0  0.0  1.0  0.0  0.0  1.0  0.0  0.0  ...  0.0  0.0  0.0   \n",
       "847   1.0  0.0  0.0  1.0  0.0  1.0  1.0  0.0  0.0  1.0  ...  1.0  0.0  0.0   \n",
       "3673  1.0  0.0  1.0  0.0  1.0  0.0  0.0  1.0  0.0  0.0  ...  0.0  0.0  0.0   \n",
       "772   1.0  0.0  1.0  0.0  1.0  0.0  0.0  1.0  1.0  0.0  ...  0.0  0.0  1.0   \n",
       "4642  1.0  0.0  0.0  1.0  0.0  1.0  0.0  1.0  1.0  0.0  ...  0.0  0.0  0.0   \n",
       "...   ...  ...  ...  ...  ...  ...  ...  ...  ...  ...  ...  ...  ...  ...   \n",
       "5205  1.0  0.0  1.0  0.0  1.0  0.0  0.0  1.0  0.0  0.0  ...  0.0  0.0  1.0   \n",
       "2139  1.0  0.0  1.0  0.0  1.0  0.0  0.0  1.0  1.0  0.0  ...  0.0  0.0  0.0   \n",
       "6920  1.0  0.0  1.0  0.0  0.0  1.0  0.0  1.0  1.0  0.0  ...  0.0  0.0  0.0   \n",
       "686   1.0  0.0  1.0  0.0  1.0  0.0  0.0  1.0  0.0  0.0  ...  1.0  0.0  0.0   \n",
       "6710  1.0  0.0  0.0  1.0  0.0  1.0  0.0  1.0  1.0  0.0  ...  0.0  0.0  1.0   \n",
       "\n",
       "            78        79        80        81        82        83        84  \n",
       "7004  1.008322  0.621148 -0.248313 -0.583651 -1.051915  0.318255  1.071352  \n",
       "847  -1.050644 -0.811145 -0.248313 -0.884833 -1.486303 -0.903884 -0.918936  \n",
       "3673  1.229341  0.878029 -0.248313  0.047343 -0.269887  0.707941  1.224149  \n",
       "772  -1.491021 -0.998584 -0.248313 -0.826352  1.718846 -1.034893 -1.487537  \n",
       "4642  0.333633  1.119226 -0.248313  2.222361  1.133620  1.541473  0.309992  \n",
       "...        ...       ...       ...       ...       ...       ...       ...  \n",
       "5205  0.878702  0.484865 -0.248313 -0.372182 -0.726933  0.272925  0.881736  \n",
       "2139  0.069407 -0.805256 -0.248313 -0.486628  1.631451 -0.781556  0.021317  \n",
       "6920 -1.497668 -0.782667 -0.248313  0.144650  0.603420 -0.577144 -1.521894  \n",
       "686  -1.334812 -0.448644  5.814668  1.185047  0.738074 -0.022174 -1.324158  \n",
       "6710  0.164129  0.326633 -0.248313  1.647272  1.404870  0.744485 -0.059857  \n",
       "\n",
       "[4507 rows x 85 columns]"
      ]
     },
     "execution_count": 21,
     "metadata": {},
     "output_type": "execute_result"
    }
   ],
   "source": [
    "pd.DataFrame(X_train, index=y_train.index)"
   ]
  },
  {
   "cell_type": "code",
   "execution_count": 22,
   "id": "0b31b1bb-5cfa-4041-9252-e640c277374a",
   "metadata": {
    "tags": []
   },
   "outputs": [],
   "source": [
    "train = pd.concat([pd.Series(y_train, index=y_train.index,\n",
    "                             name='target', dtype=int), pd.DataFrame(X_train, index=y_train.index)], axis=1)\n",
    "validation = pd.concat([pd.Series(y_valid, index=y_valid.index,\n",
    "                            name='target', dtype=int), pd.DataFrame(X_valid, index=y_valid.index)], axis=1)\n",
    "test = pd.concat([pd.Series(y_test, index=y_test.index,\n",
    "                            name='target', dtype=int), pd.DataFrame(X_test, index=y_test.index)], axis=1)"
   ]
  },
  {
   "cell_type": "code",
   "execution_count": 23,
   "id": "f013f740-02f3-4a71-af83-2768fae1f189",
   "metadata": {
    "tags": []
   },
   "outputs": [
    {
     "data": {
      "text/plain": [
       "(4507, 86)"
      ]
     },
     "execution_count": 23,
     "metadata": {},
     "output_type": "execute_result"
    }
   ],
   "source": [
    "train.shape"
   ]
  },
  {
   "cell_type": "code",
   "execution_count": 24,
   "id": "86dd7956-4e60-45d7-8300-f4c5539fff72",
   "metadata": {
    "tags": []
   },
   "outputs": [
    {
     "name": "stdout",
     "output_type": "stream",
     "text": [
      "Train data after spliting: (4507, 86), 1165 positive examples, 3342 negative examples, 25.85 churn rate\n",
      "Validation data after spliting: (1127, 86), 323 positive examples, 804 negative examples, 28.66 churn rate\n",
      "Test data after spliting: (1409, 86), 381 positive examples, 1028 negative examples, 27.04 churn rate\n"
     ]
    }
   ],
   "source": [
    "negative_examples, positive_examples = np.bincount(train[\"target\"])\n",
    "print(\n",
    "        \"Train data after spliting: {}, {} positive examples, {} negative examples, {} churn rate\".format(\n",
    "            train.shape, positive_examples, negative_examples, round(100*positive_examples/(positive_examples+negative_examples),2) \n",
    "        )\n",
    "    )\n",
    "\n",
    "negative_examples, positive_examples = np.bincount(validation[\"target\"])\n",
    "print(\n",
    "        \"Validation data after spliting: {}, {} positive examples, {} negative examples, {} churn rate\".format(\n",
    "            validation.shape, positive_examples, negative_examples, round(100*positive_examples/(positive_examples+negative_examples),2) \n",
    "        )\n",
    "    )\n",
    "    \n",
    "negative_examples, positive_examples = np.bincount(test[\"target\"])\n",
    "print(\n",
    "        \"Test data after spliting: {}, {} positive examples, {} negative examples, {} churn rate\".format(\n",
    "            test.shape, positive_examples, negative_examples, round(100*positive_examples/(positive_examples+negative_examples),2) \n",
    "        )\n",
    "    )"
   ]
  }
 ],
 "metadata": {
  "availableInstances": [
   {
    "_defaultOrder": 0,
    "_isFastLaunch": true,
    "category": "General purpose",
    "gpuNum": 0,
    "hideHardwareSpecs": false,
    "memoryGiB": 4,
    "name": "ml.t3.medium",
    "vcpuNum": 2
   },
   {
    "_defaultOrder": 1,
    "_isFastLaunch": false,
    "category": "General purpose",
    "gpuNum": 0,
    "hideHardwareSpecs": false,
    "memoryGiB": 8,
    "name": "ml.t3.large",
    "vcpuNum": 2
   },
   {
    "_defaultOrder": 2,
    "_isFastLaunch": false,
    "category": "General purpose",
    "gpuNum": 0,
    "hideHardwareSpecs": false,
    "memoryGiB": 16,
    "name": "ml.t3.xlarge",
    "vcpuNum": 4
   },
   {
    "_defaultOrder": 3,
    "_isFastLaunch": false,
    "category": "General purpose",
    "gpuNum": 0,
    "hideHardwareSpecs": false,
    "memoryGiB": 32,
    "name": "ml.t3.2xlarge",
    "vcpuNum": 8
   },
   {
    "_defaultOrder": 4,
    "_isFastLaunch": true,
    "category": "General purpose",
    "gpuNum": 0,
    "hideHardwareSpecs": false,
    "memoryGiB": 8,
    "name": "ml.m5.large",
    "vcpuNum": 2
   },
   {
    "_defaultOrder": 5,
    "_isFastLaunch": false,
    "category": "General purpose",
    "gpuNum": 0,
    "hideHardwareSpecs": false,
    "memoryGiB": 16,
    "name": "ml.m5.xlarge",
    "vcpuNum": 4
   },
   {
    "_defaultOrder": 6,
    "_isFastLaunch": false,
    "category": "General purpose",
    "gpuNum": 0,
    "hideHardwareSpecs": false,
    "memoryGiB": 32,
    "name": "ml.m5.2xlarge",
    "vcpuNum": 8
   },
   {
    "_defaultOrder": 7,
    "_isFastLaunch": false,
    "category": "General purpose",
    "gpuNum": 0,
    "hideHardwareSpecs": false,
    "memoryGiB": 64,
    "name": "ml.m5.4xlarge",
    "vcpuNum": 16
   },
   {
    "_defaultOrder": 8,
    "_isFastLaunch": false,
    "category": "General purpose",
    "gpuNum": 0,
    "hideHardwareSpecs": false,
    "memoryGiB": 128,
    "name": "ml.m5.8xlarge",
    "vcpuNum": 32
   },
   {
    "_defaultOrder": 9,
    "_isFastLaunch": false,
    "category": "General purpose",
    "gpuNum": 0,
    "hideHardwareSpecs": false,
    "memoryGiB": 192,
    "name": "ml.m5.12xlarge",
    "vcpuNum": 48
   },
   {
    "_defaultOrder": 10,
    "_isFastLaunch": false,
    "category": "General purpose",
    "gpuNum": 0,
    "hideHardwareSpecs": false,
    "memoryGiB": 256,
    "name": "ml.m5.16xlarge",
    "vcpuNum": 64
   },
   {
    "_defaultOrder": 11,
    "_isFastLaunch": false,
    "category": "General purpose",
    "gpuNum": 0,
    "hideHardwareSpecs": false,
    "memoryGiB": 384,
    "name": "ml.m5.24xlarge",
    "vcpuNum": 96
   },
   {
    "_defaultOrder": 12,
    "_isFastLaunch": false,
    "category": "General purpose",
    "gpuNum": 0,
    "hideHardwareSpecs": false,
    "memoryGiB": 8,
    "name": "ml.m5d.large",
    "vcpuNum": 2
   },
   {
    "_defaultOrder": 13,
    "_isFastLaunch": false,
    "category": "General purpose",
    "gpuNum": 0,
    "hideHardwareSpecs": false,
    "memoryGiB": 16,
    "name": "ml.m5d.xlarge",
    "vcpuNum": 4
   },
   {
    "_defaultOrder": 14,
    "_isFastLaunch": false,
    "category": "General purpose",
    "gpuNum": 0,
    "hideHardwareSpecs": false,
    "memoryGiB": 32,
    "name": "ml.m5d.2xlarge",
    "vcpuNum": 8
   },
   {
    "_defaultOrder": 15,
    "_isFastLaunch": false,
    "category": "General purpose",
    "gpuNum": 0,
    "hideHardwareSpecs": false,
    "memoryGiB": 64,
    "name": "ml.m5d.4xlarge",
    "vcpuNum": 16
   },
   {
    "_defaultOrder": 16,
    "_isFastLaunch": false,
    "category": "General purpose",
    "gpuNum": 0,
    "hideHardwareSpecs": false,
    "memoryGiB": 128,
    "name": "ml.m5d.8xlarge",
    "vcpuNum": 32
   },
   {
    "_defaultOrder": 17,
    "_isFastLaunch": false,
    "category": "General purpose",
    "gpuNum": 0,
    "hideHardwareSpecs": false,
    "memoryGiB": 192,
    "name": "ml.m5d.12xlarge",
    "vcpuNum": 48
   },
   {
    "_defaultOrder": 18,
    "_isFastLaunch": false,
    "category": "General purpose",
    "gpuNum": 0,
    "hideHardwareSpecs": false,
    "memoryGiB": 256,
    "name": "ml.m5d.16xlarge",
    "vcpuNum": 64
   },
   {
    "_defaultOrder": 19,
    "_isFastLaunch": false,
    "category": "General purpose",
    "gpuNum": 0,
    "hideHardwareSpecs": false,
    "memoryGiB": 384,
    "name": "ml.m5d.24xlarge",
    "vcpuNum": 96
   },
   {
    "_defaultOrder": 20,
    "_isFastLaunch": false,
    "category": "General purpose",
    "gpuNum": 0,
    "hideHardwareSpecs": true,
    "memoryGiB": 0,
    "name": "ml.geospatial.interactive",
    "supportedImageNames": [
     "sagemaker-geospatial-v1-0"
    ],
    "vcpuNum": 0
   },
   {
    "_defaultOrder": 21,
    "_isFastLaunch": true,
    "category": "Compute optimized",
    "gpuNum": 0,
    "hideHardwareSpecs": false,
    "memoryGiB": 4,
    "name": "ml.c5.large",
    "vcpuNum": 2
   },
   {
    "_defaultOrder": 22,
    "_isFastLaunch": false,
    "category": "Compute optimized",
    "gpuNum": 0,
    "hideHardwareSpecs": false,
    "memoryGiB": 8,
    "name": "ml.c5.xlarge",
    "vcpuNum": 4
   },
   {
    "_defaultOrder": 23,
    "_isFastLaunch": false,
    "category": "Compute optimized",
    "gpuNum": 0,
    "hideHardwareSpecs": false,
    "memoryGiB": 16,
    "name": "ml.c5.2xlarge",
    "vcpuNum": 8
   },
   {
    "_defaultOrder": 24,
    "_isFastLaunch": false,
    "category": "Compute optimized",
    "gpuNum": 0,
    "hideHardwareSpecs": false,
    "memoryGiB": 32,
    "name": "ml.c5.4xlarge",
    "vcpuNum": 16
   },
   {
    "_defaultOrder": 25,
    "_isFastLaunch": false,
    "category": "Compute optimized",
    "gpuNum": 0,
    "hideHardwareSpecs": false,
    "memoryGiB": 72,
    "name": "ml.c5.9xlarge",
    "vcpuNum": 36
   },
   {
    "_defaultOrder": 26,
    "_isFastLaunch": false,
    "category": "Compute optimized",
    "gpuNum": 0,
    "hideHardwareSpecs": false,
    "memoryGiB": 96,
    "name": "ml.c5.12xlarge",
    "vcpuNum": 48
   },
   {
    "_defaultOrder": 27,
    "_isFastLaunch": false,
    "category": "Compute optimized",
    "gpuNum": 0,
    "hideHardwareSpecs": false,
    "memoryGiB": 144,
    "name": "ml.c5.18xlarge",
    "vcpuNum": 72
   },
   {
    "_defaultOrder": 28,
    "_isFastLaunch": false,
    "category": "Compute optimized",
    "gpuNum": 0,
    "hideHardwareSpecs": false,
    "memoryGiB": 192,
    "name": "ml.c5.24xlarge",
    "vcpuNum": 96
   },
   {
    "_defaultOrder": 29,
    "_isFastLaunch": true,
    "category": "Accelerated computing",
    "gpuNum": 1,
    "hideHardwareSpecs": false,
    "memoryGiB": 16,
    "name": "ml.g4dn.xlarge",
    "vcpuNum": 4
   },
   {
    "_defaultOrder": 30,
    "_isFastLaunch": false,
    "category": "Accelerated computing",
    "gpuNum": 1,
    "hideHardwareSpecs": false,
    "memoryGiB": 32,
    "name": "ml.g4dn.2xlarge",
    "vcpuNum": 8
   },
   {
    "_defaultOrder": 31,
    "_isFastLaunch": false,
    "category": "Accelerated computing",
    "gpuNum": 1,
    "hideHardwareSpecs": false,
    "memoryGiB": 64,
    "name": "ml.g4dn.4xlarge",
    "vcpuNum": 16
   },
   {
    "_defaultOrder": 32,
    "_isFastLaunch": false,
    "category": "Accelerated computing",
    "gpuNum": 1,
    "hideHardwareSpecs": false,
    "memoryGiB": 128,
    "name": "ml.g4dn.8xlarge",
    "vcpuNum": 32
   },
   {
    "_defaultOrder": 33,
    "_isFastLaunch": false,
    "category": "Accelerated computing",
    "gpuNum": 4,
    "hideHardwareSpecs": false,
    "memoryGiB": 192,
    "name": "ml.g4dn.12xlarge",
    "vcpuNum": 48
   },
   {
    "_defaultOrder": 34,
    "_isFastLaunch": false,
    "category": "Accelerated computing",
    "gpuNum": 1,
    "hideHardwareSpecs": false,
    "memoryGiB": 256,
    "name": "ml.g4dn.16xlarge",
    "vcpuNum": 64
   },
   {
    "_defaultOrder": 35,
    "_isFastLaunch": false,
    "category": "Accelerated computing",
    "gpuNum": 1,
    "hideHardwareSpecs": false,
    "memoryGiB": 61,
    "name": "ml.p3.2xlarge",
    "vcpuNum": 8
   },
   {
    "_defaultOrder": 36,
    "_isFastLaunch": false,
    "category": "Accelerated computing",
    "gpuNum": 4,
    "hideHardwareSpecs": false,
    "memoryGiB": 244,
    "name": "ml.p3.8xlarge",
    "vcpuNum": 32
   },
   {
    "_defaultOrder": 37,
    "_isFastLaunch": false,
    "category": "Accelerated computing",
    "gpuNum": 8,
    "hideHardwareSpecs": false,
    "memoryGiB": 488,
    "name": "ml.p3.16xlarge",
    "vcpuNum": 64
   },
   {
    "_defaultOrder": 38,
    "_isFastLaunch": false,
    "category": "Accelerated computing",
    "gpuNum": 8,
    "hideHardwareSpecs": false,
    "memoryGiB": 768,
    "name": "ml.p3dn.24xlarge",
    "vcpuNum": 96
   },
   {
    "_defaultOrder": 39,
    "_isFastLaunch": false,
    "category": "Memory Optimized",
    "gpuNum": 0,
    "hideHardwareSpecs": false,
    "memoryGiB": 16,
    "name": "ml.r5.large",
    "vcpuNum": 2
   },
   {
    "_defaultOrder": 40,
    "_isFastLaunch": false,
    "category": "Memory Optimized",
    "gpuNum": 0,
    "hideHardwareSpecs": false,
    "memoryGiB": 32,
    "name": "ml.r5.xlarge",
    "vcpuNum": 4
   },
   {
    "_defaultOrder": 41,
    "_isFastLaunch": false,
    "category": "Memory Optimized",
    "gpuNum": 0,
    "hideHardwareSpecs": false,
    "memoryGiB": 64,
    "name": "ml.r5.2xlarge",
    "vcpuNum": 8
   },
   {
    "_defaultOrder": 42,
    "_isFastLaunch": false,
    "category": "Memory Optimized",
    "gpuNum": 0,
    "hideHardwareSpecs": false,
    "memoryGiB": 128,
    "name": "ml.r5.4xlarge",
    "vcpuNum": 16
   },
   {
    "_defaultOrder": 43,
    "_isFastLaunch": false,
    "category": "Memory Optimized",
    "gpuNum": 0,
    "hideHardwareSpecs": false,
    "memoryGiB": 256,
    "name": "ml.r5.8xlarge",
    "vcpuNum": 32
   },
   {
    "_defaultOrder": 44,
    "_isFastLaunch": false,
    "category": "Memory Optimized",
    "gpuNum": 0,
    "hideHardwareSpecs": false,
    "memoryGiB": 384,
    "name": "ml.r5.12xlarge",
    "vcpuNum": 48
   },
   {
    "_defaultOrder": 45,
    "_isFastLaunch": false,
    "category": "Memory Optimized",
    "gpuNum": 0,
    "hideHardwareSpecs": false,
    "memoryGiB": 512,
    "name": "ml.r5.16xlarge",
    "vcpuNum": 64
   },
   {
    "_defaultOrder": 46,
    "_isFastLaunch": false,
    "category": "Memory Optimized",
    "gpuNum": 0,
    "hideHardwareSpecs": false,
    "memoryGiB": 768,
    "name": "ml.r5.24xlarge",
    "vcpuNum": 96
   },
   {
    "_defaultOrder": 47,
    "_isFastLaunch": false,
    "category": "Accelerated computing",
    "gpuNum": 1,
    "hideHardwareSpecs": false,
    "memoryGiB": 16,
    "name": "ml.g5.xlarge",
    "vcpuNum": 4
   },
   {
    "_defaultOrder": 48,
    "_isFastLaunch": false,
    "category": "Accelerated computing",
    "gpuNum": 1,
    "hideHardwareSpecs": false,
    "memoryGiB": 32,
    "name": "ml.g5.2xlarge",
    "vcpuNum": 8
   },
   {
    "_defaultOrder": 49,
    "_isFastLaunch": false,
    "category": "Accelerated computing",
    "gpuNum": 1,
    "hideHardwareSpecs": false,
    "memoryGiB": 64,
    "name": "ml.g5.4xlarge",
    "vcpuNum": 16
   },
   {
    "_defaultOrder": 50,
    "_isFastLaunch": false,
    "category": "Accelerated computing",
    "gpuNum": 1,
    "hideHardwareSpecs": false,
    "memoryGiB": 128,
    "name": "ml.g5.8xlarge",
    "vcpuNum": 32
   },
   {
    "_defaultOrder": 51,
    "_isFastLaunch": false,
    "category": "Accelerated computing",
    "gpuNum": 1,
    "hideHardwareSpecs": false,
    "memoryGiB": 256,
    "name": "ml.g5.16xlarge",
    "vcpuNum": 64
   },
   {
    "_defaultOrder": 52,
    "_isFastLaunch": false,
    "category": "Accelerated computing",
    "gpuNum": 4,
    "hideHardwareSpecs": false,
    "memoryGiB": 192,
    "name": "ml.g5.12xlarge",
    "vcpuNum": 48
   },
   {
    "_defaultOrder": 53,
    "_isFastLaunch": false,
    "category": "Accelerated computing",
    "gpuNum": 4,
    "hideHardwareSpecs": false,
    "memoryGiB": 384,
    "name": "ml.g5.24xlarge",
    "vcpuNum": 96
   },
   {
    "_defaultOrder": 54,
    "_isFastLaunch": false,
    "category": "Accelerated computing",
    "gpuNum": 8,
    "hideHardwareSpecs": false,
    "memoryGiB": 768,
    "name": "ml.g5.48xlarge",
    "vcpuNum": 192
   },
   {
    "_defaultOrder": 55,
    "_isFastLaunch": false,
    "category": "Accelerated computing",
    "gpuNum": 8,
    "hideHardwareSpecs": false,
    "memoryGiB": 1152,
    "name": "ml.p4d.24xlarge",
    "vcpuNum": 96
   },
   {
    "_defaultOrder": 56,
    "_isFastLaunch": false,
    "category": "Accelerated computing",
    "gpuNum": 8,
    "hideHardwareSpecs": false,
    "memoryGiB": 1152,
    "name": "ml.p4de.24xlarge",
    "vcpuNum": 96
   },
   {
    "_defaultOrder": 57,
    "_isFastLaunch": false,
    "category": "Accelerated computing",
    "gpuNum": 0,
    "hideHardwareSpecs": false,
    "memoryGiB": 32,
    "name": "ml.trn1.2xlarge",
    "vcpuNum": 8
   },
   {
    "_defaultOrder": 58,
    "_isFastLaunch": false,
    "category": "Accelerated computing",
    "gpuNum": 0,
    "hideHardwareSpecs": false,
    "memoryGiB": 512,
    "name": "ml.trn1.32xlarge",
    "vcpuNum": 128
   },
   {
    "_defaultOrder": 59,
    "_isFastLaunch": false,
    "category": "Accelerated computing",
    "gpuNum": 0,
    "hideHardwareSpecs": false,
    "memoryGiB": 512,
    "name": "ml.trn1n.32xlarge",
    "vcpuNum": 128
   }
  ],
  "instance_type": "ml.t3.medium",
  "kernelspec": {
   "display_name": "Python 3 (Data Science 3.0)",
   "language": "python",
   "name": "python3__SAGEMAKER_INTERNAL__arn:aws:sagemaker:us-east-1:081325390199:image/sagemaker-data-science-310-v1"
  },
  "language_info": {
   "codemirror_mode": {
    "name": "ipython",
    "version": 3
   },
   "file_extension": ".py",
   "mimetype": "text/x-python",
   "name": "python",
   "nbconvert_exporter": "python",
   "pygments_lexer": "ipython3",
   "version": "3.10.6"
  }
 },
 "nbformat": 4,
 "nbformat_minor": 5
}
